{
 "cells": [
  {
   "cell_type": "markdown",
   "metadata": {
    "slideshow": {
     "slide_type": "slide"
    }
   },
   "source": [
    "<center><img src=\"img/slide-0.png\"></center>"
   ]
  },
  {
   "cell_type": "markdown",
   "metadata": {
    "slideshow": {
     "slide_type": "slide"
    }
   },
   "source": [
    "<center><img src=\"img/slide-1.png\"></center>"
   ]
  },
  {
   "cell_type": "markdown",
   "metadata": {
    "slideshow": {
     "slide_type": "slide"
    }
   },
   "source": [
    "## Required software for the tutorials\n",
    "\n",
    "We will use [Conda](https://conda.io/projects/conda/en/latest/user-guide/getting-started.html)\n",
    "to setup all required software for this tutorial. If you haven't setup\n",
    "Conda yet, please do so first and then execute:"
   ]
  },
  {
   "cell_type": "code",
   "execution_count": null,
   "metadata": {
    "slideshow": {
     "slide_type": "fragment"
    }
   },
   "outputs": [],
   "source": [
    "!conda create -yqn tutorial -c conda-forge -c bioconda mmseqs2==12.113e3 plass== 4.687d7"
   ]
  },
  {
   "cell_type": "code",
   "execution_count": null,
   "metadata": {
    "slideshow": {
     "slide_type": "fragment"
    }
   },
   "outputs": [],
   "source": [
    "# in a shell you would run the following, however we want the binaries to be available in this notebook\n",
    "# source activate tutorial\n",
    "conda_path = !source activate tutorial && echo $CONDA_PREFIX:$PATH\n",
    "%set_env PATH=$conda_path"
   ]
  },
  {
   "cell_type": "markdown",
   "metadata": {
    "slideshow": {
     "slide_type": "slide"
    }
   },
   "source": [
    "# The Patient\n",
    "<div style=\"display:flex; flex-direction:row;\">\n",
    "<div>\n",
    "    \n",
    "* 61-year-old man had bilateral headache, gait instability, lethargy, and confusion.\n",
    "* Multiple tick bites in the preceding 2 weeks\n",
    "* Possible rodent and bat exposures due to occupation\n",
    "* Developed worsening confusion, weakness, and ataxia and was admitted\n",
    "* Symptoms were diagnosed as Encephalitis; Causative agent - not known\n",
    "\n",
    "* **Our task will be to identify the pathogenic root cause of the\n",
    "disease.**\n",
    "    \n",
    "</div>\n",
    "<div><img src=\"img/slide-29.png\" style=\"max-height:500px;\" alt=\"CT image of patients brain showing inflamation\"></div>\n",
    "</div>"
   ]
  },
  {
   "cell_type": "markdown",
   "metadata": {
    "slideshow": {
     "slide_type": "slide"
    }
   },
   "source": [
    "<img src=\"img/slide-4.png\" alt=\"This figure by Simner et al. shows a comparision of state of the art infections diagnosis methods compared to next generation sequence based diagnosis. Different type of pathogens require seperate tests, some lab test can take weeks to return a results while NGS can detect multiple types of pathogenes using the same protocol with in two days.\">"
   ]
  },
  {
   "cell_type": "markdown",
   "metadata": {
    "slideshow": {
     "slide_type": "subslide"
    }
   },
   "source": [
    "<img src=\"img/slide-3.png\" alt=\"In NGS based diagnosis we take a sample from the infectious site. For this patient the sample was taken from the Cerebrospinal fluid. CSF is a good sample side for brain infections. Directly sampling the infectious site is hard. We extract DNA and/or RNA from the sample by first breaking the cell walls. This is already a step that can cause the diagnosis to fail, some pathogens have stronger cell walls and require methods like bead beating to break them. Once we have extracted the DNA we sequence them using illumina. Now we end up with millions of short reads (DNA fragments), which are normally between 100-250 residues long. Our task today will be to taxonomically classify this reads by searching them against reference database. Once we have matched the reads to reference, we can visualize the taxonomical of a control sample and the infectious sample.\">"
   ]
  },
  {
   "cell_type": "markdown",
   "metadata": {
    "slideshow": {
     "slide_type": "notes"
    }
   },
   "source": [
    "This pathogen is usually confirmed by a screening antibody test,\n",
    "followed by a plaque reduction neutralization test. However, this takes\n",
    "5 weeks, which was too slow to affect the patient's care. As traditional\n",
    "tests done in the first week of the patient's hospital stay did not\n",
    "reveal any conclusive disease cause, the doctors were running out of\n",
    "options. Therefore a novel metagenomic analysis was performed."
   ]
  },
  {
   "cell_type": "markdown",
   "metadata": {
    "slideshow": {
     "slide_type": "slide"
    }
   },
   "source": [
    "## Metagenomic Diagnosis\n",
    "\n",
    "* Sequencing from brain biopsy performed on hospital day 8\n",
    "* Returned 14 million short nucleotide sequences (reads)\n",
    "* Authors released a set of 226,908 reads, human reads removed using Kraken (Wood et al 2014)"
   ]
  },
  {
   "cell_type": "markdown",
   "metadata": {
    "slideshow": {
     "slide_type": "fragment"
    }
   },
   "source": [
    "* **Why didn't the authors release the complete dataset?**"
   ]
  },
  {
   "cell_type": "markdown",
   "metadata": {
    "slideshow": {
     "slide_type": "fragment"
    }
   },
   "source": [
    "Most likely, because of **privacy** for the patient."
   ]
  },
  {
   "cell_type": "markdown",
   "metadata": {
    "slideshow": {
     "slide_type": "subslide"
    }
   },
   "source": [
    "<center><img src=\"img/slide-39.png\" alt=\"One popular method to label reads is Kraken. Kraken breaks the query sequence (read) into all overlapping k-mers (short words). Each k-mer is looked up in a pre-computed index table the respective taxonomical label. Once all k-mers all classified they are placed into a taxonomical tree. The taxon with the maximal path is assigned to the read. \"></center>"
   ]
  },
  {
   "cell_type": "markdown",
   "metadata": {
    "slideshow": {
     "slide_type": "subslide"
    }
   },
   "source": [
    "## What are the limitations of nucleotide based classifications?"
   ]
  },
  {
   "cell_type": "markdown",
   "metadata": {
    "slideshow": {
     "slide_type": "fragment"
    }
   },
   "source": [
    "For many things we might **not have a closely related genomes** in the reference database."
   ]
  },
  {
   "cell_type": "markdown",
   "metadata": {
    "slideshow": {
     "slide_type": "fragment"
    }
   },
   "source": [
    "### We can **use remote sequence homology to establish evolutionary relationships**."
   ]
  },
  {
   "cell_type": "markdown",
   "metadata": {
    "slideshow": {
     "slide_type": "fragment"
    }
   },
   "source": [
    "<center><img src=\"img/slide-7.png\" style=\"height:500px;\" alt=\"Structural proteins are often conserved over a long period of time. Here you can see a ubiquitin from human and yeast. Both protein sequences branched off billions of year but the structure looks very similar. The conservation on the amino acid is not easy to see but some motives are still visible.\"></center>"
   ]
  },
  {
   "cell_type": "markdown",
   "metadata": {
    "slideshow": {
     "slide_type": "slide"
    }
   },
   "source": [
    "## Metagenomic pathogen detection using MMseqs2\n",
    "\n",
    "We will use MMseqs2 (Steinegger et al 2017) to find the cause of this patient's disease.\n",
    "MMseqs2 translates the nucleotide reads to putative protein fragments, searches against a\n",
    "protein reference database and assigns taxonomic labels based on the\n",
    "found reference database hits."
   ]
  },
  {
   "cell_type": "markdown",
   "metadata": {
    "slideshow": {
     "slide_type": "fragment"
    }
   },
   "source": [
    "<center><img src=\"img/slide-38.png\" style=\"height:500px;\" alt=\"We can just search all six possible open reading frames against the database. Six frames because there are three possible codon start position on the forward and additional tree on the reverse strand.\"></center>"
   ]
  },
  {
   "cell_type": "markdown",
   "metadata": {
    "slideshow": {
     "slide_type": "subslide"
    }
   },
   "source": [
    "<center><img src=\"img/slide-11.png\" alt=\"MMseqs2 is a fast method to search reads six-frame translate again protein databases. It uses three filter stages (1) fast k-mer perfilter, (2) ungapped alignment and (3) an gapped alignment to improve its speed.\"></center>"
   ]
  },
  {
   "cell_type": "markdown",
   "metadata": {
    "slideshow": {
     "slide_type": "slide"
    }
   },
   "source": [
    "<center><img src=\"img/slide-13.png\" style=\"height:800px;\" alt=\"Sensitivity of MMseqs2 can be adjusted based on the use case it can be very fast but less sensitive or as senstive than blast.\"></center>"
   ]
  },
  {
   "cell_type": "markdown",
   "metadata": {
    "slideshow": {
     "slide_type": "subslide"
    }
   },
   "source": [
    "<center><img src=\"img/slide-74.png\" alt=\"You can see an sequence alignment with an e-value of 0.2. Do you trust this alignment?\"></center>"
   ]
  },
  {
   "cell_type": "markdown",
   "metadata": {
    "slideshow": {
     "slide_type": "subslide"
    }
   },
   "source": [
    "<center><img src=\"img/slide-14.png\"  style=\"height:800px;\" alt=\"By aligning a profile against the sequence we can improve the E-value to 10^-17. PSI-BLAST is using this. Profiles are great to find remote homology connections.\" ></center>"
   ]
  },
  {
   "cell_type": "markdown",
   "metadata": {
    "slideshow": {
     "slide_type": "slide"
    }
   },
   "source": [
    "<center><img src=\"img/slide-15.png\" style=\"height:800px;\" alt=\"MMSeqs2 can perform PSI-BLAST like searches but hundrets of times faster\"></center>"
   ]
  },
  {
   "cell_type": "markdown",
   "metadata": {
    "slideshow": {
     "slide_type": "notes"
    }
   },
   "source": [
    "Here you will learn the basic usage of MMseqs2 as well as expert tricks\n",
    "to take advantage of the ability of chaining different MMseqs2 modules\n",
    "to produce custom workflows."
   ]
  },
  {
   "cell_type": "markdown",
   "metadata": {
    "slideshow": {
     "slide_type": "slide"
    }
   },
   "source": [
    "The generic syntax for `mmseqs` and `plass` calls is always the\n",
    "following:\n",
    "\n",
    "    mmseqs <command> <db1> [<db2> ...] --flag --parameter 42\n",
    "\n",
    "The help text of `mmseqs` shows, by default, only the most important\n",
    "parameters and modules. To see a full list of parameters and modules use\n",
    "the `-h` flag."
   ]
  },
  {
   "cell_type": "code",
   "execution_count": null,
   "metadata": {
    "scrolled": false,
    "slideshow": {
     "slide_type": "fragment"
    }
   },
   "outputs": [],
   "source": [
    "!mmseqs"
   ]
  },
  {
   "cell_type": "code",
   "execution_count": null,
   "metadata": {
    "slideshow": {
     "slide_type": "fragment"
    }
   },
   "outputs": [],
   "source": [
    "!mmseqs -h"
   ]
  },
  {
   "cell_type": "markdown",
   "metadata": {
    "slideshow": {
     "slide_type": "skip"
    }
   },
   "source": [
    "If you are using Bash as your shell, you can activate tab-auto-completion of commands and parameters:\n",
    "`source $CONDA_PREFIX/util/bash-completion.sh`"
   ]
  },
  {
   "cell_type": "markdown",
   "metadata": {
    "slideshow": {
     "slide_type": "slide"
    }
   },
   "source": [
    "# Downloading the reads\n",
    "The sequencer returns paired-end reads where sequencing\n",
    "starts in opposite directions from two close-by points to cover the\n",
    "same genomic region. Some of these paired reads overlap enough to be\n",
    "merged into a single read with FLASH (Magoc and Salzberg 2011).\n",
    "\n",
    "To not spoil the mystery to early, we prepared a FASTA file containing the reads:"
   ]
  },
  {
   "cell_type": "code",
   "execution_count": null,
   "metadata": {
    "scrolled": true,
    "slideshow": {
     "slide_type": "fragment"
    }
   },
   "outputs": [],
   "source": [
    "!wget -nv -c http://wwwuser.gwdg.de/~compbiol/mmseqs2/tutorials/mystery_reads.fasta"
   ]
  },
  {
   "cell_type": "markdown",
   "metadata": {
    "slideshow": {
     "slide_type": "slide"
    }
   },
   "source": [
    "# Reference database\n",
    "We will use the\n",
    "Swiss-Prot which is the manually curated, high-quality part of the\n",
    "Uniprot (Uniprot Consortium 2014) protein reference database. Each protein in Uniprot has a taxonomic label. \n",
    "\n",
    "Usually you would use the `databases` workflow to automatically download and\n",
    "prepare a wide range of reference databases (such the UniProt):"
   ]
  },
  {
   "cell_type": "code",
   "execution_count": null,
   "metadata": {
    "scrolled": true,
    "slideshow": {
     "slide_type": "fragment"
    }
   },
   "outputs": [],
   "source": [
    "!mmseqs databases"
   ]
  },
  {
   "cell_type": "markdown",
   "metadata": {
    "slideshow": {
     "slide_type": "subslide"
    }
   },
   "source": [
    "However, for this tutorial we want stable results and you are going to download a specific version we prepared for you:"
   ]
  },
  {
   "cell_type": "code",
   "execution_count": null,
   "metadata": {
    "slideshow": {
     "slide_type": "fragment"
    }
   },
   "outputs": [],
   "source": [
    "!wget -nv -c http://wwwuser.gwdg.de/~compbiol/mmseqs2/tutorials/uniprot_sprot_2018_03.fasta.gz\n",
    "!wget -nv -c http://wwwuser.gwdg.de/~compbiol/mmseqs2/tutorials/uniprot_sprot_2018_03_mapping.tsv.gz\n",
    "!gunzip uniprot_sprot_2018_03_mapping.tsv.gz"
   ]
  },
  {
   "cell_type": "code",
   "execution_count": null,
   "metadata": {
    "slideshow": {
     "slide_type": "fragment"
    }
   },
   "outputs": [],
   "source": [
    "!mmseqs createdb uniprot_sprot_2018_03.fasta.gz uniprot_sprot"
   ]
  },
  {
   "cell_type": "code",
   "execution_count": null,
   "metadata": {
    "slideshow": {
     "slide_type": "fragment"
    }
   },
   "outputs": [],
   "source": [
    "!mmseqs createtaxdb uniprot_sprot tmp --tax-mapping-file uniprot_sprot_2018_03_mapping.tsv"
   ]
  },
  {
   "cell_type": "code",
   "execution_count": null,
   "metadata": {
    "scrolled": true,
    "slideshow": {
     "slide_type": "fragment"
    }
   },
   "outputs": [],
   "source": [
    "!mmseqs createindex uniprot_sprot tmp"
   ]
  },
  {
   "cell_type": "markdown",
   "metadata": {
    "slideshow": {
     "slide_type": "slide"
    }
   },
   "source": [
    "Through a similarity search we will transfer the annotation of the\n",
    "reference protein to our unknown reads:"
   ]
  },
  {
   "cell_type": "code",
   "execution_count": null,
   "metadata": {
    "slideshow": {
     "slide_type": "fragment"
    }
   },
   "outputs": [],
   "source": [
    "!mmseqs createdb mystery_reads.fasta reads"
   ]
  },
  {
   "cell_type": "code",
   "execution_count": null,
   "metadata": {
    "scrolled": true,
    "slideshow": {
     "slide_type": "subslide"
    }
   },
   "outputs": [],
   "source": [
    "!mmseqs taxonomy reads uniprot_sprot lca_result tmp -s 2 "
   ]
  },
  {
   "cell_type": "markdown",
   "metadata": {
    "slideshow": {
     "slide_type": "subslide"
    }
   },
   "source": [
    "<center><img src=\"img/lca.png\" alt=\"2bLCA is a protocol to assing taxon to sequences. It take uncertainty into account.\"></center>"
   ]
  },
  {
   "cell_type": "markdown",
   "metadata": {
    "slideshow": {
     "slide_type": "subslide"
    }
   },
   "source": [
    "MMseqs2 creates a result database in your working directory.\n",
    "This database consists of files starting with `lca_result`. We\n",
    "can convert this database into a human readable tab separated values\n",
    "file (TSV):"
   ]
  },
  {
   "cell_type": "code",
   "execution_count": null,
   "metadata": {
    "slideshow": {
     "slide_type": "fragment"
    }
   },
   "outputs": [],
   "source": [
    "!mmseqs createtsv reads lca_result lca.tsv"
   ]
  },
  {
   "cell_type": "markdown",
   "metadata": {
    "slideshow": {
     "slide_type": "slide"
    }
   },
   "source": [
    "In this file you see for every read a numeric taxonomic identifier, a\n",
    "taxonomic rank and a taxonomic label. However, due to the large number\n",
    "of reads, it is hard to gain any insights by skimming the file:"
   ]
  },
  {
   "cell_type": "code",
   "execution_count": null,
   "metadata": {
    "slideshow": {
     "slide_type": "fragment"
    }
   },
   "outputs": [],
   "source": [
    "!head -n 1000 lca.tsv"
   ]
  },
  {
   "cell_type": "markdown",
   "metadata": {
    "slideshow": {
     "slide_type": "subslide"
    }
   },
   "source": [
    "* **What are taxa with the highest read count in this dataset?**"
   ]
  },
  {
   "cell_type": "code",
   "execution_count": null,
   "metadata": {
    "slideshow": {
     "slide_type": "fragment"
    }
   },
   "outputs": [],
   "source": [
    "!cut -d $'\\t' -f4 lca.tsv | sort | uniq -c | sort -rn | head"
   ]
  },
  {
   "cell_type": "markdown",
   "metadata": {
    "slideshow": {
     "slide_type": "fragment"
    }
   },
   "source": [
    "* **Why are there still 724 human reads?**"
   ]
  },
  {
   "cell_type": "markdown",
   "metadata": {
    "slideshow": {
     "slide_type": "fragment"
    }
   },
   "source": [
    "Kraken might have been not sensitive enough to annotate those."
   ]
  },
  {
   "cell_type": "markdown",
   "metadata": {
    "slideshow": {
     "slide_type": "fragment"
    }
   },
   "source": [
    "* **Were all these bacterial really present in the brain sample?**"
   ]
  },
  {
   "cell_type": "markdown",
   "metadata": {
    "slideshow": {
     "slide_type": "fragment"
    }
   },
   "source": [
    "They might come from many different sources, such as lab-contamination, or reference-database contamination etc."
   ]
  },
  {
   "cell_type": "markdown",
   "metadata": {
    "slideshow": {
     "slide_type": "subslide"
    }
   },
   "source": [
    "MMseqs2 offers a module to summarize the data into a single file `report.txt`:"
   ]
  },
  {
   "cell_type": "code",
   "execution_count": null,
   "metadata": {
    "slideshow": {
     "slide_type": "fragment"
    }
   },
   "outputs": [],
   "source": [
    "!mmseqs taxonomyreport uniprot_sprot lca_result report.txt "
   ]
  },
  {
   "cell_type": "code",
   "execution_count": null,
   "metadata": {
    "slideshow": {
     "slide_type": "subslide"
    }
   },
   "outputs": [],
   "source": [
    "!cat report.txt"
   ]
  },
  {
   "cell_type": "code",
   "execution_count": null,
   "metadata": {
    "slideshow": {
     "slide_type": "subslide"
    }
   },
   "outputs": [],
   "source": [
    "from IPython.display import IFrame\n",
    "IFrame('https://fbreitwieser.shinyapps.io/pavian/', width='100%', height=600)"
   ]
  },
  {
   "cell_type": "markdown",
   "metadata": {
    "slideshow": {
     "slide_type": "subslide"
    }
   },
   "source": [
    "### Visualizing taxonomic results\n",
    "\n",
    "MMseqs2 can also generate an interactive visualization of the data using\n",
    "Krona (Ondov et al 2011).\n",
    "Adapt the previous call to generate a Krona report:"
   ]
  },
  {
   "cell_type": "code",
   "execution_count": null,
   "metadata": {
    "slideshow": {
     "slide_type": "fragment"
    }
   },
   "outputs": [],
   "source": [
    "!mmseqs taxonomyreport uniprot_sprot lca_result report.html --report-mode 1"
   ]
  },
  {
   "cell_type": "markdown",
   "metadata": {
    "slideshow": {
     "slide_type": "subslide"
    }
   },
   "source": [
    "This generates a `HTML` file that can be opened in a browser. This\n",
    "offers an interactive circular visualization where you can click on each\n",
    "label to zoom into different parts of the hierarchy."
   ]
  },
  {
   "cell_type": "code",
   "execution_count": null,
   "metadata": {
    "slideshow": {
     "slide_type": "fragment"
    }
   },
   "outputs": [],
   "source": [
    "from IPython.display import IFrame\n",
    "IFrame('report.html', width='100%', height=400)"
   ]
  },
  {
   "cell_type": "markdown",
   "metadata": {
    "slideshow": {
     "slide_type": "slide"
    }
   },
   "source": [
    "## Using MMseqs2 Easy Workflows\n",
    "All these steps can also be done in a single call. We call these easy workflows and they produce further useful output."
   ]
  },
  {
   "cell_type": "code",
   "execution_count": null,
   "metadata": {
    "slideshow": {
     "slide_type": "fragment"
    }
   },
   "outputs": [],
   "source": [
    "!mmseqs easy-taxonomy mystery_reads.fasta uniprot_sprot easy_result tmp -s 2 "
   ]
  },
  {
   "cell_type": "code",
   "execution_count": null,
   "metadata": {
    "scrolled": false,
    "slideshow": {
     "slide_type": "fragment"
    }
   },
   "outputs": [],
   "source": [
    "!cat easy_result_tophit_report | grep powassan"
   ]
  },
  {
   "cell_type": "markdown",
   "metadata": {
    "slideshow": {
     "slide_type": "subslide"
    }
   },
   "source": [
    "<center><img src=\"img/uniprot_polyprotein.png\" alt=\"Q04538 is a polyprotein. Meaning it encodes multiple \"></center>"
   ]
  },
  {
   "cell_type": "markdown",
   "metadata": {
    "slideshow": {
     "slide_type": "slide"
    }
   },
   "source": [
    "## Investigating the pathogen\n",
    "\n",
    "We now want to take a closer look only at the reads of the pathogen. To\n",
    "filter the result database, we will need the pathogen's numeric\n",
    "taxonomic identifier. \n",
    "\n",
    "* **What is the taxon identifier of the powassan virus?**"
   ]
  },
  {
   "cell_type": "code",
   "execution_count": null,
   "metadata": {
    "slideshow": {
     "slide_type": "fragment"
    }
   },
   "outputs": [],
   "source": [
    "!grep -i powassan lca.tsv | head"
   ]
  },
  {
   "cell_type": "markdown",
   "metadata": {
    "slideshow": {
     "slide_type": "subslide"
    }
   },
   "source": [
    "Retrieve only the reads that belong to the powassan virus:"
   ]
  },
  {
   "cell_type": "code",
   "execution_count": null,
   "metadata": {
    "scrolled": true,
    "slideshow": {
     "slide_type": "fragment"
    }
   },
   "outputs": [],
   "source": [
    "!mmseqs filtertaxdb uniprot_sprot lca_result lca_only_pathogen --taxon-list 39008 "
   ]
  },
  {
   "cell_type": "markdown",
   "metadata": {
    "slideshow": {
     "slide_type": "fragment"
    }
   },
   "source": [
    "We need a list of all database keys of powassan to extract the respective reads:"
   ]
  },
  {
   "cell_type": "code",
   "execution_count": null,
   "metadata": {
    "slideshow": {
     "slide_type": "fragment"
    }
   },
   "outputs": [],
   "source": [
    "!mmseqs prefixid lca_only_pathogen lca_only_pathogen.tsv --tsv"
   ]
  },
  {
   "cell_type": "markdown",
   "metadata": {
    "slideshow": {
     "slide_type": "subslide"
    }
   },
   "source": [
    "With a few more commands we can convert our taxonomic labels back into a\n",
    "FASTA file:"
   ]
  },
  {
   "cell_type": "code",
   "execution_count": null,
   "metadata": {
    "scrolled": false,
    "slideshow": {
     "slide_type": "fragment"
    }
   },
   "outputs": [],
   "source": [
    "!mmseqs createsubdb lca_only_pathogen.tsv reads reads_pathogen"
   ]
  },
  {
   "cell_type": "code",
   "execution_count": null,
   "metadata": {
    "scrolled": true,
    "slideshow": {
     "slide_type": "fragment"
    }
   },
   "outputs": [],
   "source": [
    "!mmseqs convert2fasta reads_pathogen reads_pathogen.fasta"
   ]
  },
  {
   "cell_type": "markdown",
   "metadata": {
    "slideshow": {
     "slide_type": "subslide"
    }
   },
   "source": [
    "* **How many reads of the pathogen are in this resulting FASTA file?**"
   ]
  },
  {
   "cell_type": "code",
   "execution_count": null,
   "metadata": {
    "slideshow": {
     "slide_type": "fragment"
    }
   },
   "outputs": [],
   "source": [
    "!grep -c \"^>\" reads_pathogen.fasta"
   ]
  },
  {
   "cell_type": "markdown",
   "metadata": {
    "slideshow": {
     "slide_type": "slide"
    }
   },
   "source": [
    "<center><img src=\"img/slide-25.png\" style=\"height:800px;\" alt=\"Protein Level Assembly\"></center>\n"
   ]
  },
  {
   "cell_type": "markdown",
   "metadata": {
    "slideshow": {
     "slide_type": "subslide"
    }
   },
   "source": [
    "<center><img src=\"img/slide-26.png\" alt=\"Finding overlaps on the protein level instead using nucleotides residues reduces SNPs in the overlaps.\"></center>"
   ]
  },
  {
   "cell_type": "markdown",
   "metadata": {
    "slideshow": {
     "slide_type": "subslide"
    }
   },
   "source": [
    "<center><img src=\"img/slide-27.png\" alt=\"PLASS is a protein assembler that can assemble multiple times more proteins from diverse enviroments compared to MEGAHIT/metaSPADes.\"></center>"
   ]
  },
  {
   "cell_type": "markdown",
   "metadata": {
    "slideshow": {
     "slide_type": "subslide"
    }
   },
   "source": [
    "<center><img src=\"img/slide-69.png\" style=\"height:800px;\" alt=\"Annika Seidel is currently developing an assembler, which can resolve full genomes from metagenomes.\"></center>"
   ]
  },
  {
   "cell_type": "markdown",
   "metadata": {
    "slideshow": {
     "slide_type": "subslide"
    }
   },
   "source": [
    "<center><img src=\"img/slide-73.png\" alt=\"On ssRNA viral metatranscriptomes our assembler can assemble many time more sequences.\"></center>"
   ]
  },
  {
   "cell_type": "markdown",
   "metadata": {
    "slideshow": {
     "slide_type": "subslide"
    }
   },
   "source": [
    "We will use Plass-hybrid to find overlapping reads and generate contigs:"
   ]
  },
  {
   "cell_type": "code",
   "execution_count": null,
   "metadata": {
    "scrolled": true,
    "slideshow": {
     "slide_type": "fragment"
    }
   },
   "outputs": [],
   "source": [
    "!plass hybridassemble reads_pathogen.fasta pathogen_assembly.fasta tmp \\\n",
    "    --min-seq-id \"nucl:0.95,aa:0.9\" --min-contig-len 200 --min-length 20"
   ]
  },
  {
   "cell_type": "markdown",
   "metadata": {
    "slideshow": {
     "slide_type": "subslide"
    }
   },
   "source": [
    "Take a look at the generated FASTA file `pathogen_assembly.fasta`:\n"
   ]
  },
  {
   "cell_type": "code",
   "execution_count": null,
   "metadata": {
    "slideshow": {
     "slide_type": "fragment"
    }
   },
   "outputs": [],
   "source": [
    "!cat pathogen_assembly.fasta"
   ]
  },
  {
   "cell_type": "markdown",
   "metadata": {
    "slideshow": {
     "slide_type": "fragment"
    }
   },
   "source": [
    "* **How many sequences were assembled?**"
   ]
  },
  {
   "cell_type": "code",
   "execution_count": null,
   "metadata": {
    "slideshow": {
     "slide_type": "fragment"
    }
   },
   "outputs": [],
   "source": [
    "!grep -c \"^>\"  pathogen_assembly.fasta"
   ]
  },
  {
   "cell_type": "markdown",
   "metadata": {
    "slideshow": {
     "slide_type": "slide"
    }
   },
   "source": [
    "### Clustering to find representative proteins (dereplication)\n",
    "\n",
    "Plass uncovers a lot of variation in the reads and outputs many\n",
    "similar proteins, which can be dereplicated using the sequence clustering module in MMseqs2.\n",
    "<center><img src=\"img/slide-18.png\" style=\"height:700px\" alt=\"Sequence cluster is important to reduce redundancy or to build protein families\"></center>"
   ]
  },
  {
   "cell_type": "markdown",
   "metadata": {
    "slideshow": {
     "slide_type": "subslide"
    }
   },
   "source": [
    "<center><img src=\"img/slide-19.png\" alt=\"Clustering algorithm scale quadratically in runtime. But our algorithm Linclust scales linear in runtime\"></center>"
   ]
  },
  {
   "cell_type": "markdown",
   "metadata": {
    "slideshow": {
     "slide_type": "subslide"
    }
   },
   "source": [
    "<center><img src=\"img/slide-20.png\" style=\"height:800px;\" alt=\"We pick a set of minimal hashing k-mers per sequence.\"></center>"
   ]
  },
  {
   "cell_type": "markdown",
   "metadata": {
    "slideshow": {
     "slide_type": "subslide"
    }
   },
   "source": [
    "<center><img src=\"img/slide-21.png\" style=\"height:800px;\" alt=\"We group them by soring.\"></center>"
   ]
  },
  {
   "cell_type": "markdown",
   "metadata": {
    "slideshow": {
     "slide_type": "subslide"
    }
   },
   "source": [
    "<center><img src=\"img/slide-22.png\" style=\"height:800px;\" alt=\"In each k-mer group we pick the longest sequences a cluster centroid.\"></center>"
   ]
  },
  {
   "cell_type": "markdown",
   "metadata": {
    "slideshow": {
     "slide_type": "subslide"
    }
   },
   "source": [
    "<center><img src=\"img/slide-23.png\" style=\"height:800px;\" alt=\"We now align the sequence members against the centroid.\"></center>"
   ]
  },
  {
   "cell_type": "markdown",
   "metadata": {
    "slideshow": {
     "slide_type": "subslide"
    }
   },
   "source": [
    "<center><img src=\"img/slide-24.png\" style=\"height:800px;\" alt=\"An assing the members to clusters\"></center>"
   ]
  },
  {
   "cell_type": "code",
   "execution_count": null,
   "metadata": {
    "slideshow": {
     "slide_type": "subslide"
    }
   },
   "outputs": [],
   "source": [
    "!mmseqs easy-cluster pathogen_assembly.fasta assembly_clustered tmp --cov-mode 1 -c 0.8 "
   ]
  },
  {
   "cell_type": "markdown",
   "metadata": {
    "slideshow": {
     "slide_type": "fragment"
    }
   },
   "source": [
    "<center><img src=\"img/cov_modes.png\" style=\"max-height:300px\" alt=\"The coverage parameter is very important for Linclust.\" ></center>"
   ]
  },
  {
   "cell_type": "markdown",
   "metadata": {
    "slideshow": {
     "slide_type": "subslide"
    }
   },
   "source": [
    "You will see three files starting with `assembly_clustered` (`assembly_clustered_all_seqs.fasta`, `assembly_clustered_cluster.tsv`, `assembly_clustered_rep_seq.fasta`):\n"
   ]
  },
  {
   "cell_type": "code",
   "execution_count": null,
   "metadata": {
    "slideshow": {
     "slide_type": "fragment"
    }
   },
   "outputs": [],
   "source": [
    "!head -n 6 assembly_clustered_rep_seq.fasta assembly_clustered_cluster.tsv"
   ]
  },
  {
   "cell_type": "markdown",
   "metadata": {
    "slideshow": {
     "slide_type": "fragment"
    }
   },
   "source": [
    "* **How many sequences remain now?**"
   ]
  },
  {
   "cell_type": "code",
   "execution_count": null,
   "metadata": {
    "scrolled": true,
    "slideshow": {
     "slide_type": "fragment"
    }
   },
   "outputs": [],
   "source": [
    "!grep -c \"^>\" assembly_clustered_rep_seq.fasta"
   ]
  },
  {
   "cell_type": "markdown",
   "metadata": {
    "slideshow": {
     "slide_type": "slide"
    }
   },
   "source": [
    "## Comparing assemblies with reference polyprotein"
   ]
  },
  {
   "cell_type": "code",
   "execution_count": null,
   "metadata": {
    "scrolled": true,
    "slideshow": {
     "slide_type": "fragment"
    }
   },
   "outputs": [],
   "source": [
    "!wget -O - https://www.uniprot.org/uniprot/Q04538.fasta \\\n",
    "    | mmseqs easy-search stdin assembly_clustered_rep_seq.fasta result.html tmp --format-mode 3"
   ]
  },
  {
   "cell_type": "code",
   "execution_count": null,
   "metadata": {
    "scrolled": true,
    "slideshow": {
     "slide_type": "subslide"
    }
   },
   "outputs": [],
   "source": [
    "from IPython.display import IFrame\n",
    "IFrame('result.html', width='100%', height=800)"
   ]
  },
  {
   "cell_type": "markdown",
   "metadata": {
    "slideshow": {
     "slide_type": "subslide"
    }
   },
   "source": [
    "<center><img src=\"img/igv_view_powassan_reads.png\" alt=\"Coverage across the genome is not uniform. Potential bias through experiment\"></center>"
   ]
  },
  {
   "cell_type": "markdown",
   "metadata": {
    "slideshow": {
     "slide_type": "slide"
    }
   },
   "source": [
    "### Annotating the contigs with the MMseqs2 Webserver\n",
    "\n",
    "We will look for known protein domains to identify the proteins we\n",
    "found. Instead of the MMseqs2 command line, we use the MMseqs2\n",
    "webserver, which will visualize the results. Paste the content of the\n",
    "FASTA file containing the representative sequences into the webserver\n",
    "and make sure to select all three target databases (PFAM, PDB,\n",
    "Uniclust): <https://search.mmseqs.com>"
   ]
  },
  {
   "cell_type": "code",
   "execution_count": null,
   "metadata": {
    "slideshow": {
     "slide_type": "slide"
    }
   },
   "outputs": [],
   "source": [
    "from IPython.display import IFrame\n",
    "IFrame('https://search.mmseqs.com/result/Rh6pCITfZXxJ7k_gsOy2nDKSOeW-TlRbKF5Tmw/0', width='100%', height=800)"
   ]
  },
  {
   "cell_type": "markdown",
   "metadata": {
    "slideshow": {
     "slide_type": "slide"
    }
   },
   "source": [
    "## Aftermath\n",
    "\n",
    "Despite being able to identify the causative agent. The pathogen is very\n",
    "hard to treat. The patient had minimal neurological recovery and was\n",
    "discharged to an acute care facility on hospital day 30. Seven months\n",
    "after discharge, he was reportedly able to nod his head to questions and\n",
    "slightly move his upper extremities and toes.\n",
    "\n",
    "You can find the publication about this patient and dataset in\n",
    "(Piantadosi et al. 2017)."
   ]
  },
  {
   "cell_type": "markdown",
   "metadata": {
    "slideshow": {
     "slide_type": "slide"
    }
   },
   "source": [
    "## References\n",
    "\n",
    "Piantadosi, Anne, Sanjat Kanjilal, Vijay Ganesh, Arjun Khanna, Emily P\n",
    "Hyle, Jonathan Rosand, Tyler Bold, et al. 2017. \"Rapid Detection of\n",
    "Powassan Virus in a Patient With Encephalitis by Metagenomic\n",
    "Sequencing.\" *Clinical Infectious Diseases* 66 (5): 789--92.\n",
    "\n",
    "UniProt Consortium. 2014. \"UniProt: A Hub for Protein Information.\"\n",
    "*Nucleic Acids Research* 43 (D1): D204--D212.\n",
    "\n",
    "Magoc, Tanja, and Steven L. Salzberg. 2011. \"FLASH: Fast Length\n",
    "Adjustment of Short Reads to Improve Genome Assemblies.\"\n",
    "*Bioinformatics* 27 (21): 2957--63.\n",
    "\n",
    "Ondov, Brian D, Nicholas H Bergman, and Adam M Phillippy. 2011.\n",
    "\"Interactive metagenomic visualization in a Web browser.\" *BMC\n",
    "Bioinformatics* 12 (1): 385.\n",
    "\n",
    "Wood, Derrick E, and Steven L Salzberg. 2014. \"Kraken: ultrafast\n",
    "metagenomic sequence classification using exact alignments.\" *Genome\n",
    "Biology* 15 (3): R46."
   ]
  },
  {
   "cell_type": "markdown",
   "metadata": {
    "slideshow": {
     "slide_type": "slide"
    }
   },
   "source": [
    "<center><img src=\"img/slide-28.png\"></center>"
   ]
  },
  {
   "cell_type": "markdown",
   "metadata": {
    "slideshow": {
     "slide_type": "skip"
    }
   },
   "source": []
  },
  {
   "cell_type": "markdown",
   "metadata": {
    "slideshow": {
     "slide_type": "skip"
    }
   },
   "source": [
    "## Reset data to rerun tutorial"
   ]
  },
  {
   "cell_type": "code",
   "execution_count": null,
   "metadata": {
    "slideshow": {
     "slide_type": "skip"
    }
   },
   "outputs": [],
   "source": [
    "!rm -rf reads* easy_result* lca* report.* pathogen_assembly.fasta assembly_clustered_* result.html tmp/"
   ]
  },
  {
   "cell_type": "code",
   "execution_count": null,
   "metadata": {
    "slideshow": {
     "slide_type": "skip"
    }
   },
   "outputs": [],
   "source": [
    "!rm -rf uniport_sprot* mystery_reads.fasta"
   ]
  },
  {
   "cell_type": "code",
   "execution_count": null,
   "metadata": {
    "slideshow": {
     "slide_type": "skip"
    }
   },
   "outputs": [],
   "source": [
    "    from IPython.core.display import display, HTML\n",
    "    display(HTML(\n",
    "        '<style>'\n",
    "        '.rise-enabled #notebook-container { margin-left: auto !important; }'\n",
    "        '/*div.output_area { max-height: 250px !important; }*/'\n",
    "        '</style>'\n",
    "    ))"
   ]
  }
 ],
 "metadata": {
  "celltoolbar": "Slideshow",
  "kernelspec": {
   "display_name": "Python 3",
   "language": "python",
   "name": "python3"
  },
  "language_info": {
   "codemirror_mode": {
    "name": "ipython",
    "version": 3
   },
   "file_extension": ".py",
   "mimetype": "text/x-python",
   "name": "python",
   "nbconvert_exporter": "python",
   "pygments_lexer": "ipython3",
   "version": "3.7.6"
  },
  "rise": {
   "enable_chalkboard": true,
   "transition": "none"
  }
 },
 "nbformat": 4,
 "nbformat_minor": 4
}
